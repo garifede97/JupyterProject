{
 "cells": [
  {
   "cell_type": "markdown",
   "metadata": {
    "toc": true
   },
   "source": [
    "<h1>Table of Contents<span class=\"tocSkip\"></span></h1>\n",
    "<div class=\"toc\"><ul class=\"toc-item\"><li><span><a href=\"#Soluzioni\" data-toc-modified-id=\"Soluzioni-1\"><span class=\"toc-item-num\">1&nbsp;&nbsp;</span>Soluzioni</a></span><ul class=\"toc-item\"><li><span><a href=\"#Prima-Parte---Teoria\" data-toc-modified-id=\"Prima-Parte---Teoria-1.1\"><span class=\"toc-item-num\">1.1&nbsp;&nbsp;</span>Prima Parte - Teoria</a></span></li><li><span><a href=\"#Seconda-Parte---Pratica\" data-toc-modified-id=\"Seconda-Parte---Pratica-1.2\"><span class=\"toc-item-num\">1.2&nbsp;&nbsp;</span>Seconda Parte - Pratica</a></span></li><li><span><a href=\"#Exploratory-Data-Analysis\" data-toc-modified-id=\"Exploratory-Data-Analysis-1.3\"><span class=\"toc-item-num\">1.3&nbsp;&nbsp;</span>Exploratory Data Analysis</a></span></li><li><span><a href=\"#Data-Cleaning\" data-toc-modified-id=\"Data-Cleaning-1.4\"><span class=\"toc-item-num\">1.4&nbsp;&nbsp;</span>Data Cleaning</a></span></li><li><span><a href=\"#Data-Pre-Processing\" data-toc-modified-id=\"Data-Pre-Processing-1.5\"><span class=\"toc-item-num\">1.5&nbsp;&nbsp;</span>Data Pre-Processing</a></span><ul class=\"toc-item\"><li><span><a href=\"#Encoding\" data-toc-modified-id=\"Encoding-1.5.1\"><span class=\"toc-item-num\">1.5.1&nbsp;&nbsp;</span>Encoding</a></span></li></ul></li><li><span><a href=\"#Model-Implementation\" data-toc-modified-id=\"Model-Implementation-1.6\"><span class=\"toc-item-num\">1.6&nbsp;&nbsp;</span>Model Implementation</a></span><ul class=\"toc-item\"><li><span><a href=\"#Anche-se-non-richiesto-dall'esercizio-qui-c'è-un-possibile-modello-di-machine-learning-su-cui-riflettere\" data-toc-modified-id=\"Anche-se-non-richiesto-dall'esercizio-qui-c'è-un-possibile-modello-di-machine-learning-su-cui-riflettere-1.6.1\"><span class=\"toc-item-num\">1.6.1&nbsp;&nbsp;</span>Anche se non richiesto dall'esercizio qui c'è un possibile modello di machine learning su cui riflettere</a></span></li><li><span><a href=\"#Decision-Tree\" data-toc-modified-id=\"Decision-Tree-1.6.2\"><span class=\"toc-item-num\">1.6.2&nbsp;&nbsp;</span>Decision Tree</a></span><ul class=\"toc-item\"><li><span><a href=\"#Evaluate-DS-Model\" data-toc-modified-id=\"Evaluate-DS-Model-1.6.2.1\"><span class=\"toc-item-num\">1.6.2.1&nbsp;&nbsp;</span>Evaluate DS Model</a></span></li></ul></li></ul></li></ul></li></ul></div>"
   ]
  },
  {
   "cell_type": "markdown",
   "metadata": {},
   "source": [
    "# Soluzioni \n",
    "\n",
    "Pratica individuale - Lezione 4"
   ]
  },
  {
   "cell_type": "markdown",
   "metadata": {},
   "source": [
    "## Prima Parte - Teoria"
   ]
  },
  {
   "cell_type": "markdown",
   "metadata": {},
   "source": [
    "\n",
    "-------------------------------------------------------------------------------------------------------\n",
    "**Domanda 1.** Se dovessi creare un modello di classificazione binaria a partire da un dataset avente tale distribuzione delle classi, l'accuratezza potrebbe essere una buona metrica per valutare il tuo modello? Motiva la tua riposta.\n",
    "\n",
    "![distro](distro.png)\n",
    "\n",
    "\n",
    "**Risposta:** No, l'accuratezza non sarebbe una buona metrica perché il dataset è fortemente sbilanciato. Il risultato che si otterrebbe, fornirebbe un'indicazione della corretta classificazione o meno sulla base dell'esito della classe di maggioranza, andando ad oscurare la classe di minoranza. Non sarebbe quindi una metrica attendibile per una valutazione della bontà complessiva del modello. Sono indicate in questi casi le metriche precision e recall.\n",
    "\n",
    "--------------------------------------------------------------------------------------------------------------------------------------\n",
    "\n",
    "\n",
    "**Domanda 2.** La scalatura delle features influenza la costruzione di un albero decisionale? Motiva la tua risposta.\n",
    "\n",
    "**Risposta:** No, perché l'albero prende delle decisioni sui nodi, ciascuno dei quali splitta il dataset in due porzioni a seconda della miglior coppia (feature,threshold). Quindi ciascuna decisione è influenzata da una singola feature, indipendentemente dalle altre.\n",
    "\n",
    "I modelli basati sull'albero decisionale prendono decisioni sulla base di parametri.\n",
    "\n",
    "Quindi se hai una variabile chiamata X, questa variabile può assumere più valori. Ora, in un modello di albero decisionale, un albero viene formato sulla base di micro decisioni che l'algoritmo prende per formare un albero. Un esempio di questa micro decisione potrebbe essere,\n",
    "\n",
    "Se 50 > X > 100. (ci sono davvero due decisioni qui)\n",
    "\n",
    "Se lo è, l'algoritmo forma un diverso ramo dell'albero di apprendimento, altrimenti forma un diverso ramo dell'albero.\n",
    "\n",
    "Ora, se quei valori delle caratteristiche dovessero essere ridimensionati, diciamo di 100\n",
    "\n",
    "0.5 > X/100 > 1 anche allora la decisione non sarebbe cambiata. Tieni presente che anche il valore di X è stato ridimensionato dello stesso fattore.\n",
    "\n",
    "Pertanto, i modelli di alberi decisionali come Random forest, extratrees, XGboost ecc. Non richiedono il ridimensionamento dei valori delle funzionalità per convergere ai minimi.\n",
    "\n",
    "\n",
    "\n",
    "\n",
    "\n"
   ]
  },
  {
   "cell_type": "markdown",
   "metadata": {},
   "source": [
    "## Seconda Parte - Pratica\n",
    "\n",
    "\n",
    "-------------------------------------------------------------------------------------------------------------------------------------------"
   ]
  },
  {
   "cell_type": "markdown",
   "metadata": {},
   "source": [
    "**Qui trovate un'analisi completa del dataset e con le diverse fasi viste finora nel master, per rispondere alle domande della pratica individuale non è necessario farle tutte!**"
   ]
  },
  {
   "cell_type": "markdown",
   "metadata": {},
   "source": [
    "Il set di dati proviene da un sondaggio che misura gli atteggiamenti nei confronti della salute mentale e la frequenza dei disturbi di salute mentale nei luoghi di lavoro in compagnie *tech*.\n",
    "\n",
    "Fonte: https://osmhhelp.org/research (anno 2014)\n",
    "\n",
    "\n"
   ]
  },
  {
   "cell_type": "code",
   "execution_count": 1,
   "metadata": {},
   "outputs": [],
   "source": [
    "import numpy as np\n",
    "import pandas as pd\n",
    "import seaborn as sns\n",
    "import matplotlib.pyplot as plt\n",
    "from sklearn.preprocessing import OneHotEncoder, LabelEncoder, StandardScaler\n",
    "from sklearn.model_selection import train_test_split\n",
    "from sklearn.neighbors import KNeighborsClassifier\n",
    "from sklearn import metrics\n",
    "from sklearn.metrics import accuracy_score\n",
    "from sklearn.metrics import confusion_matrix\n",
    "from sklearn.metrics import classification_report\n",
    "from sklearn.tree import DecisionTreeClassifier\n"
   ]
  },
  {
   "cell_type": "markdown",
   "metadata": {},
   "source": [
    "## Exploratory Data Analysis"
   ]
  },
  {
   "cell_type": "code",
   "execution_count": 2,
   "metadata": {},
   "outputs": [],
   "source": [
    "data = pd.read_csv(\"survey.csv\")"
   ]
  },
  {
   "cell_type": "code",
   "execution_count": 3,
   "metadata": {},
   "outputs": [],
   "source": [
    "pd.set_option('display.max_columns', None)"
   ]
  },
  {
   "cell_type": "code",
   "execution_count": 4,
   "metadata": {},
   "outputs": [
    {
     "data": {
      "text/html": [
       "<div>\n",
       "<style scoped>\n",
       "    .dataframe tbody tr th:only-of-type {\n",
       "        vertical-align: middle;\n",
       "    }\n",
       "\n",
       "    .dataframe tbody tr th {\n",
       "        vertical-align: top;\n",
       "    }\n",
       "\n",
       "    .dataframe thead th {\n",
       "        text-align: right;\n",
       "    }\n",
       "</style>\n",
       "<table border=\"1\" class=\"dataframe\">\n",
       "  <thead>\n",
       "    <tr style=\"text-align: right;\">\n",
       "      <th></th>\n",
       "      <th>Timestamp</th>\n",
       "      <th>Age</th>\n",
       "      <th>Gender</th>\n",
       "      <th>Country</th>\n",
       "      <th>state</th>\n",
       "      <th>self_employed</th>\n",
       "      <th>family_history</th>\n",
       "      <th>treatment</th>\n",
       "      <th>work_interfere</th>\n",
       "      <th>no_employees</th>\n",
       "      <th>remote_work</th>\n",
       "      <th>tech_company</th>\n",
       "      <th>benefits</th>\n",
       "      <th>care_options</th>\n",
       "      <th>wellness_program</th>\n",
       "      <th>seek_help</th>\n",
       "      <th>anonymity</th>\n",
       "      <th>leave</th>\n",
       "      <th>mental_health_consequence</th>\n",
       "      <th>phys_health_consequence</th>\n",
       "      <th>coworkers</th>\n",
       "      <th>supervisor</th>\n",
       "      <th>mental_health_interview</th>\n",
       "      <th>phys_health_interview</th>\n",
       "      <th>mental_vs_physical</th>\n",
       "      <th>obs_consequence</th>\n",
       "      <th>comments</th>\n",
       "    </tr>\n",
       "  </thead>\n",
       "  <tbody>\n",
       "    <tr>\n",
       "      <th>0</th>\n",
       "      <td>2014-08-27 11:29:31</td>\n",
       "      <td>37</td>\n",
       "      <td>Female</td>\n",
       "      <td>United States</td>\n",
       "      <td>IL</td>\n",
       "      <td>NaN</td>\n",
       "      <td>No</td>\n",
       "      <td>Yes</td>\n",
       "      <td>Often</td>\n",
       "      <td>6-25</td>\n",
       "      <td>No</td>\n",
       "      <td>Yes</td>\n",
       "      <td>Yes</td>\n",
       "      <td>Not sure</td>\n",
       "      <td>No</td>\n",
       "      <td>Yes</td>\n",
       "      <td>Yes</td>\n",
       "      <td>Somewhat easy</td>\n",
       "      <td>No</td>\n",
       "      <td>No</td>\n",
       "      <td>Some of them</td>\n",
       "      <td>Yes</td>\n",
       "      <td>No</td>\n",
       "      <td>Maybe</td>\n",
       "      <td>Yes</td>\n",
       "      <td>No</td>\n",
       "      <td>NaN</td>\n",
       "    </tr>\n",
       "    <tr>\n",
       "      <th>1</th>\n",
       "      <td>2014-08-27 11:29:37</td>\n",
       "      <td>44</td>\n",
       "      <td>M</td>\n",
       "      <td>United States</td>\n",
       "      <td>IN</td>\n",
       "      <td>NaN</td>\n",
       "      <td>No</td>\n",
       "      <td>No</td>\n",
       "      <td>Rarely</td>\n",
       "      <td>More than 1000</td>\n",
       "      <td>No</td>\n",
       "      <td>No</td>\n",
       "      <td>Don't know</td>\n",
       "      <td>No</td>\n",
       "      <td>Don't know</td>\n",
       "      <td>Don't know</td>\n",
       "      <td>Don't know</td>\n",
       "      <td>Don't know</td>\n",
       "      <td>Maybe</td>\n",
       "      <td>No</td>\n",
       "      <td>No</td>\n",
       "      <td>No</td>\n",
       "      <td>No</td>\n",
       "      <td>No</td>\n",
       "      <td>Don't know</td>\n",
       "      <td>No</td>\n",
       "      <td>NaN</td>\n",
       "    </tr>\n",
       "    <tr>\n",
       "      <th>2</th>\n",
       "      <td>2014-08-27 11:29:44</td>\n",
       "      <td>32</td>\n",
       "      <td>Male</td>\n",
       "      <td>Canada</td>\n",
       "      <td>NaN</td>\n",
       "      <td>NaN</td>\n",
       "      <td>No</td>\n",
       "      <td>No</td>\n",
       "      <td>Rarely</td>\n",
       "      <td>6-25</td>\n",
       "      <td>No</td>\n",
       "      <td>Yes</td>\n",
       "      <td>No</td>\n",
       "      <td>No</td>\n",
       "      <td>No</td>\n",
       "      <td>No</td>\n",
       "      <td>Don't know</td>\n",
       "      <td>Somewhat difficult</td>\n",
       "      <td>No</td>\n",
       "      <td>No</td>\n",
       "      <td>Yes</td>\n",
       "      <td>Yes</td>\n",
       "      <td>Yes</td>\n",
       "      <td>Yes</td>\n",
       "      <td>No</td>\n",
       "      <td>No</td>\n",
       "      <td>NaN</td>\n",
       "    </tr>\n",
       "    <tr>\n",
       "      <th>3</th>\n",
       "      <td>2014-08-27 11:29:46</td>\n",
       "      <td>31</td>\n",
       "      <td>Male</td>\n",
       "      <td>United Kingdom</td>\n",
       "      <td>NaN</td>\n",
       "      <td>NaN</td>\n",
       "      <td>Yes</td>\n",
       "      <td>Yes</td>\n",
       "      <td>Often</td>\n",
       "      <td>26-100</td>\n",
       "      <td>No</td>\n",
       "      <td>Yes</td>\n",
       "      <td>No</td>\n",
       "      <td>Yes</td>\n",
       "      <td>No</td>\n",
       "      <td>No</td>\n",
       "      <td>No</td>\n",
       "      <td>Somewhat difficult</td>\n",
       "      <td>Yes</td>\n",
       "      <td>Yes</td>\n",
       "      <td>Some of them</td>\n",
       "      <td>No</td>\n",
       "      <td>Maybe</td>\n",
       "      <td>Maybe</td>\n",
       "      <td>No</td>\n",
       "      <td>Yes</td>\n",
       "      <td>NaN</td>\n",
       "    </tr>\n",
       "    <tr>\n",
       "      <th>4</th>\n",
       "      <td>2014-08-27 11:30:22</td>\n",
       "      <td>31</td>\n",
       "      <td>Male</td>\n",
       "      <td>United States</td>\n",
       "      <td>TX</td>\n",
       "      <td>NaN</td>\n",
       "      <td>No</td>\n",
       "      <td>No</td>\n",
       "      <td>Never</td>\n",
       "      <td>100-500</td>\n",
       "      <td>Yes</td>\n",
       "      <td>Yes</td>\n",
       "      <td>Yes</td>\n",
       "      <td>No</td>\n",
       "      <td>Don't know</td>\n",
       "      <td>Don't know</td>\n",
       "      <td>Don't know</td>\n",
       "      <td>Don't know</td>\n",
       "      <td>No</td>\n",
       "      <td>No</td>\n",
       "      <td>Some of them</td>\n",
       "      <td>Yes</td>\n",
       "      <td>Yes</td>\n",
       "      <td>Yes</td>\n",
       "      <td>Don't know</td>\n",
       "      <td>No</td>\n",
       "      <td>NaN</td>\n",
       "    </tr>\n",
       "  </tbody>\n",
       "</table>\n",
       "</div>"
      ],
      "text/plain": [
       "             Timestamp  Age  Gender         Country state self_employed  \\\n",
       "0  2014-08-27 11:29:31   37  Female   United States    IL           NaN   \n",
       "1  2014-08-27 11:29:37   44       M   United States    IN           NaN   \n",
       "2  2014-08-27 11:29:44   32    Male          Canada   NaN           NaN   \n",
       "3  2014-08-27 11:29:46   31    Male  United Kingdom   NaN           NaN   \n",
       "4  2014-08-27 11:30:22   31    Male   United States    TX           NaN   \n",
       "\n",
       "  family_history treatment work_interfere    no_employees remote_work  \\\n",
       "0             No       Yes          Often            6-25          No   \n",
       "1             No        No         Rarely  More than 1000          No   \n",
       "2             No        No         Rarely            6-25          No   \n",
       "3            Yes       Yes          Often          26-100          No   \n",
       "4             No        No          Never         100-500         Yes   \n",
       "\n",
       "  tech_company    benefits care_options wellness_program   seek_help  \\\n",
       "0          Yes         Yes     Not sure               No         Yes   \n",
       "1           No  Don't know           No       Don't know  Don't know   \n",
       "2          Yes          No           No               No          No   \n",
       "3          Yes          No          Yes               No          No   \n",
       "4          Yes         Yes           No       Don't know  Don't know   \n",
       "\n",
       "    anonymity               leave mental_health_consequence  \\\n",
       "0         Yes       Somewhat easy                        No   \n",
       "1  Don't know          Don't know                     Maybe   \n",
       "2  Don't know  Somewhat difficult                        No   \n",
       "3          No  Somewhat difficult                       Yes   \n",
       "4  Don't know          Don't know                        No   \n",
       "\n",
       "  phys_health_consequence     coworkers supervisor mental_health_interview  \\\n",
       "0                      No  Some of them        Yes                      No   \n",
       "1                      No            No         No                      No   \n",
       "2                      No           Yes        Yes                     Yes   \n",
       "3                     Yes  Some of them         No                   Maybe   \n",
       "4                      No  Some of them        Yes                     Yes   \n",
       "\n",
       "  phys_health_interview mental_vs_physical obs_consequence comments  \n",
       "0                 Maybe                Yes              No      NaN  \n",
       "1                    No         Don't know              No      NaN  \n",
       "2                   Yes                 No              No      NaN  \n",
       "3                 Maybe                 No             Yes      NaN  \n",
       "4                   Yes         Don't know              No      NaN  "
      ]
     },
     "execution_count": 4,
     "metadata": {},
     "output_type": "execute_result"
    }
   ],
   "source": [
    "data.head()"
   ]
  },
  {
   "cell_type": "code",
   "execution_count": 5,
   "metadata": {
    "scrolled": true
   },
   "outputs": [
    {
     "name": "stdout",
     "output_type": "stream",
     "text": [
      "<class 'pandas.core.frame.DataFrame'>\n",
      "RangeIndex: 1259 entries, 0 to 1258\n",
      "Data columns (total 27 columns):\n",
      " #   Column                     Non-Null Count  Dtype \n",
      "---  ------                     --------------  ----- \n",
      " 0   Timestamp                  1259 non-null   object\n",
      " 1   Age                        1259 non-null   int64 \n",
      " 2   Gender                     1259 non-null   object\n",
      " 3   Country                    1259 non-null   object\n",
      " 4   state                      744 non-null    object\n",
      " 5   self_employed              1241 non-null   object\n",
      " 6   family_history             1259 non-null   object\n",
      " 7   treatment                  1259 non-null   object\n",
      " 8   work_interfere             995 non-null    object\n",
      " 9   no_employees               1259 non-null   object\n",
      " 10  remote_work                1259 non-null   object\n",
      " 11  tech_company               1259 non-null   object\n",
      " 12  benefits                   1259 non-null   object\n",
      " 13  care_options               1259 non-null   object\n",
      " 14  wellness_program           1259 non-null   object\n",
      " 15  seek_help                  1259 non-null   object\n",
      " 16  anonymity                  1259 non-null   object\n",
      " 17  leave                      1259 non-null   object\n",
      " 18  mental_health_consequence  1259 non-null   object\n",
      " 19  phys_health_consequence    1259 non-null   object\n",
      " 20  coworkers                  1259 non-null   object\n",
      " 21  supervisor                 1259 non-null   object\n",
      " 22  mental_health_interview    1259 non-null   object\n",
      " 23  phys_health_interview      1259 non-null   object\n",
      " 24  mental_vs_physical         1259 non-null   object\n",
      " 25  obs_consequence            1259 non-null   object\n",
      " 26  comments                   164 non-null    object\n",
      "dtypes: int64(1), object(26)\n",
      "memory usage: 265.7+ KB\n"
     ]
    }
   ],
   "source": [
    "data.info()"
   ]
  },
  {
   "cell_type": "markdown",
   "metadata": {},
   "source": [
    "**Obiettivo**: mi interessano le persone che lavorano in **compagnie tech**, quindi filtro il dataset sulla base di questa colonna."
   ]
  },
  {
   "cell_type": "code",
   "execution_count": 6,
   "metadata": {},
   "outputs": [
    {
     "data": {
      "text/plain": [
       "Yes    1031\n",
       "No      228\n",
       "Name: tech_company, dtype: int64"
      ]
     },
     "execution_count": 6,
     "metadata": {},
     "output_type": "execute_result"
    }
   ],
   "source": [
    "data['tech_company'].value_counts()"
   ]
  },
  {
   "cell_type": "code",
   "execution_count": 7,
   "metadata": {},
   "outputs": [
    {
     "data": {
      "text/html": [
       "<div>\n",
       "<style scoped>\n",
       "    .dataframe tbody tr th:only-of-type {\n",
       "        vertical-align: middle;\n",
       "    }\n",
       "\n",
       "    .dataframe tbody tr th {\n",
       "        vertical-align: top;\n",
       "    }\n",
       "\n",
       "    .dataframe thead th {\n",
       "        text-align: right;\n",
       "    }\n",
       "</style>\n",
       "<table border=\"1\" class=\"dataframe\">\n",
       "  <thead>\n",
       "    <tr style=\"text-align: right;\">\n",
       "      <th></th>\n",
       "      <th>Timestamp</th>\n",
       "      <th>Age</th>\n",
       "      <th>Gender</th>\n",
       "      <th>Country</th>\n",
       "      <th>state</th>\n",
       "      <th>self_employed</th>\n",
       "      <th>family_history</th>\n",
       "      <th>treatment</th>\n",
       "      <th>work_interfere</th>\n",
       "      <th>no_employees</th>\n",
       "      <th>remote_work</th>\n",
       "      <th>tech_company</th>\n",
       "      <th>benefits</th>\n",
       "      <th>care_options</th>\n",
       "      <th>wellness_program</th>\n",
       "      <th>seek_help</th>\n",
       "      <th>anonymity</th>\n",
       "      <th>leave</th>\n",
       "      <th>mental_health_consequence</th>\n",
       "      <th>phys_health_consequence</th>\n",
       "      <th>coworkers</th>\n",
       "      <th>supervisor</th>\n",
       "      <th>mental_health_interview</th>\n",
       "      <th>phys_health_interview</th>\n",
       "      <th>mental_vs_physical</th>\n",
       "      <th>obs_consequence</th>\n",
       "      <th>comments</th>\n",
       "    </tr>\n",
       "  </thead>\n",
       "  <tbody>\n",
       "    <tr>\n",
       "      <th>0</th>\n",
       "      <td>2014-08-27 11:29:31</td>\n",
       "      <td>37</td>\n",
       "      <td>Female</td>\n",
       "      <td>United States</td>\n",
       "      <td>IL</td>\n",
       "      <td>NaN</td>\n",
       "      <td>No</td>\n",
       "      <td>Yes</td>\n",
       "      <td>Often</td>\n",
       "      <td>6-25</td>\n",
       "      <td>No</td>\n",
       "      <td>Yes</td>\n",
       "      <td>Yes</td>\n",
       "      <td>Not sure</td>\n",
       "      <td>No</td>\n",
       "      <td>Yes</td>\n",
       "      <td>Yes</td>\n",
       "      <td>Somewhat easy</td>\n",
       "      <td>No</td>\n",
       "      <td>No</td>\n",
       "      <td>Some of them</td>\n",
       "      <td>Yes</td>\n",
       "      <td>No</td>\n",
       "      <td>Maybe</td>\n",
       "      <td>Yes</td>\n",
       "      <td>No</td>\n",
       "      <td>NaN</td>\n",
       "    </tr>\n",
       "    <tr>\n",
       "      <th>2</th>\n",
       "      <td>2014-08-27 11:29:44</td>\n",
       "      <td>32</td>\n",
       "      <td>Male</td>\n",
       "      <td>Canada</td>\n",
       "      <td>NaN</td>\n",
       "      <td>NaN</td>\n",
       "      <td>No</td>\n",
       "      <td>No</td>\n",
       "      <td>Rarely</td>\n",
       "      <td>6-25</td>\n",
       "      <td>No</td>\n",
       "      <td>Yes</td>\n",
       "      <td>No</td>\n",
       "      <td>No</td>\n",
       "      <td>No</td>\n",
       "      <td>No</td>\n",
       "      <td>Don't know</td>\n",
       "      <td>Somewhat difficult</td>\n",
       "      <td>No</td>\n",
       "      <td>No</td>\n",
       "      <td>Yes</td>\n",
       "      <td>Yes</td>\n",
       "      <td>Yes</td>\n",
       "      <td>Yes</td>\n",
       "      <td>No</td>\n",
       "      <td>No</td>\n",
       "      <td>NaN</td>\n",
       "    </tr>\n",
       "    <tr>\n",
       "      <th>3</th>\n",
       "      <td>2014-08-27 11:29:46</td>\n",
       "      <td>31</td>\n",
       "      <td>Male</td>\n",
       "      <td>United Kingdom</td>\n",
       "      <td>NaN</td>\n",
       "      <td>NaN</td>\n",
       "      <td>Yes</td>\n",
       "      <td>Yes</td>\n",
       "      <td>Often</td>\n",
       "      <td>26-100</td>\n",
       "      <td>No</td>\n",
       "      <td>Yes</td>\n",
       "      <td>No</td>\n",
       "      <td>Yes</td>\n",
       "      <td>No</td>\n",
       "      <td>No</td>\n",
       "      <td>No</td>\n",
       "      <td>Somewhat difficult</td>\n",
       "      <td>Yes</td>\n",
       "      <td>Yes</td>\n",
       "      <td>Some of them</td>\n",
       "      <td>No</td>\n",
       "      <td>Maybe</td>\n",
       "      <td>Maybe</td>\n",
       "      <td>No</td>\n",
       "      <td>Yes</td>\n",
       "      <td>NaN</td>\n",
       "    </tr>\n",
       "    <tr>\n",
       "      <th>4</th>\n",
       "      <td>2014-08-27 11:30:22</td>\n",
       "      <td>31</td>\n",
       "      <td>Male</td>\n",
       "      <td>United States</td>\n",
       "      <td>TX</td>\n",
       "      <td>NaN</td>\n",
       "      <td>No</td>\n",
       "      <td>No</td>\n",
       "      <td>Never</td>\n",
       "      <td>100-500</td>\n",
       "      <td>Yes</td>\n",
       "      <td>Yes</td>\n",
       "      <td>Yes</td>\n",
       "      <td>No</td>\n",
       "      <td>Don't know</td>\n",
       "      <td>Don't know</td>\n",
       "      <td>Don't know</td>\n",
       "      <td>Don't know</td>\n",
       "      <td>No</td>\n",
       "      <td>No</td>\n",
       "      <td>Some of them</td>\n",
       "      <td>Yes</td>\n",
       "      <td>Yes</td>\n",
       "      <td>Yes</td>\n",
       "      <td>Don't know</td>\n",
       "      <td>No</td>\n",
       "      <td>NaN</td>\n",
       "    </tr>\n",
       "    <tr>\n",
       "      <th>5</th>\n",
       "      <td>2014-08-27 11:31:22</td>\n",
       "      <td>33</td>\n",
       "      <td>Male</td>\n",
       "      <td>United States</td>\n",
       "      <td>TN</td>\n",
       "      <td>NaN</td>\n",
       "      <td>Yes</td>\n",
       "      <td>No</td>\n",
       "      <td>Sometimes</td>\n",
       "      <td>6-25</td>\n",
       "      <td>No</td>\n",
       "      <td>Yes</td>\n",
       "      <td>Yes</td>\n",
       "      <td>Not sure</td>\n",
       "      <td>No</td>\n",
       "      <td>Don't know</td>\n",
       "      <td>Don't know</td>\n",
       "      <td>Don't know</td>\n",
       "      <td>No</td>\n",
       "      <td>No</td>\n",
       "      <td>Yes</td>\n",
       "      <td>Yes</td>\n",
       "      <td>No</td>\n",
       "      <td>Maybe</td>\n",
       "      <td>Don't know</td>\n",
       "      <td>No</td>\n",
       "      <td>NaN</td>\n",
       "    </tr>\n",
       "  </tbody>\n",
       "</table>\n",
       "</div>"
      ],
      "text/plain": [
       "             Timestamp  Age  Gender         Country state self_employed  \\\n",
       "0  2014-08-27 11:29:31   37  Female   United States    IL           NaN   \n",
       "2  2014-08-27 11:29:44   32    Male          Canada   NaN           NaN   \n",
       "3  2014-08-27 11:29:46   31    Male  United Kingdom   NaN           NaN   \n",
       "4  2014-08-27 11:30:22   31    Male   United States    TX           NaN   \n",
       "5  2014-08-27 11:31:22   33    Male   United States    TN           NaN   \n",
       "\n",
       "  family_history treatment work_interfere no_employees remote_work  \\\n",
       "0             No       Yes          Often         6-25          No   \n",
       "2             No        No         Rarely         6-25          No   \n",
       "3            Yes       Yes          Often       26-100          No   \n",
       "4             No        No          Never      100-500         Yes   \n",
       "5            Yes        No      Sometimes         6-25          No   \n",
       "\n",
       "  tech_company benefits care_options wellness_program   seek_help   anonymity  \\\n",
       "0          Yes      Yes     Not sure               No         Yes         Yes   \n",
       "2          Yes       No           No               No          No  Don't know   \n",
       "3          Yes       No          Yes               No          No          No   \n",
       "4          Yes      Yes           No       Don't know  Don't know  Don't know   \n",
       "5          Yes      Yes     Not sure               No  Don't know  Don't know   \n",
       "\n",
       "                leave mental_health_consequence phys_health_consequence  \\\n",
       "0       Somewhat easy                        No                      No   \n",
       "2  Somewhat difficult                        No                      No   \n",
       "3  Somewhat difficult                       Yes                     Yes   \n",
       "4          Don't know                        No                      No   \n",
       "5          Don't know                        No                      No   \n",
       "\n",
       "      coworkers supervisor mental_health_interview phys_health_interview  \\\n",
       "0  Some of them        Yes                      No                 Maybe   \n",
       "2           Yes        Yes                     Yes                   Yes   \n",
       "3  Some of them         No                   Maybe                 Maybe   \n",
       "4  Some of them        Yes                     Yes                   Yes   \n",
       "5           Yes        Yes                      No                 Maybe   \n",
       "\n",
       "  mental_vs_physical obs_consequence comments  \n",
       "0                Yes              No      NaN  \n",
       "2                 No              No      NaN  \n",
       "3                 No             Yes      NaN  \n",
       "4         Don't know              No      NaN  \n",
       "5         Don't know              No      NaN  "
      ]
     },
     "execution_count": 7,
     "metadata": {},
     "output_type": "execute_result"
    }
   ],
   "source": [
    "data_tech = data[data['tech_company']=='Yes']\n",
    "data_tech.head()"
   ]
  },
  {
   "cell_type": "code",
   "execution_count": 8,
   "metadata": {},
   "outputs": [
    {
     "data": {
      "text/html": [
       "<div>\n",
       "<style scoped>\n",
       "    .dataframe tbody tr th:only-of-type {\n",
       "        vertical-align: middle;\n",
       "    }\n",
       "\n",
       "    .dataframe tbody tr th {\n",
       "        vertical-align: top;\n",
       "    }\n",
       "\n",
       "    .dataframe thead th {\n",
       "        text-align: right;\n",
       "    }\n",
       "</style>\n",
       "<table border=\"1\" class=\"dataframe\">\n",
       "  <thead>\n",
       "    <tr style=\"text-align: right;\">\n",
       "      <th></th>\n",
       "      <th>Timestamp</th>\n",
       "      <th>Age</th>\n",
       "      <th>Gender</th>\n",
       "      <th>Country</th>\n",
       "      <th>state</th>\n",
       "      <th>self_employed</th>\n",
       "      <th>family_history</th>\n",
       "      <th>treatment</th>\n",
       "      <th>work_interfere</th>\n",
       "      <th>no_employees</th>\n",
       "      <th>remote_work</th>\n",
       "      <th>benefits</th>\n",
       "      <th>care_options</th>\n",
       "      <th>wellness_program</th>\n",
       "      <th>seek_help</th>\n",
       "      <th>anonymity</th>\n",
       "      <th>leave</th>\n",
       "      <th>mental_health_consequence</th>\n",
       "      <th>phys_health_consequence</th>\n",
       "      <th>coworkers</th>\n",
       "      <th>supervisor</th>\n",
       "      <th>mental_health_interview</th>\n",
       "      <th>phys_health_interview</th>\n",
       "      <th>mental_vs_physical</th>\n",
       "      <th>obs_consequence</th>\n",
       "      <th>comments</th>\n",
       "    </tr>\n",
       "  </thead>\n",
       "  <tbody>\n",
       "    <tr>\n",
       "      <th>0</th>\n",
       "      <td>2014-08-27 11:29:31</td>\n",
       "      <td>37</td>\n",
       "      <td>Female</td>\n",
       "      <td>United States</td>\n",
       "      <td>IL</td>\n",
       "      <td>NaN</td>\n",
       "      <td>No</td>\n",
       "      <td>Yes</td>\n",
       "      <td>Often</td>\n",
       "      <td>6-25</td>\n",
       "      <td>No</td>\n",
       "      <td>Yes</td>\n",
       "      <td>Not sure</td>\n",
       "      <td>No</td>\n",
       "      <td>Yes</td>\n",
       "      <td>Yes</td>\n",
       "      <td>Somewhat easy</td>\n",
       "      <td>No</td>\n",
       "      <td>No</td>\n",
       "      <td>Some of them</td>\n",
       "      <td>Yes</td>\n",
       "      <td>No</td>\n",
       "      <td>Maybe</td>\n",
       "      <td>Yes</td>\n",
       "      <td>No</td>\n",
       "      <td>NaN</td>\n",
       "    </tr>\n",
       "    <tr>\n",
       "      <th>2</th>\n",
       "      <td>2014-08-27 11:29:44</td>\n",
       "      <td>32</td>\n",
       "      <td>Male</td>\n",
       "      <td>Canada</td>\n",
       "      <td>NaN</td>\n",
       "      <td>NaN</td>\n",
       "      <td>No</td>\n",
       "      <td>No</td>\n",
       "      <td>Rarely</td>\n",
       "      <td>6-25</td>\n",
       "      <td>No</td>\n",
       "      <td>No</td>\n",
       "      <td>No</td>\n",
       "      <td>No</td>\n",
       "      <td>No</td>\n",
       "      <td>Don't know</td>\n",
       "      <td>Somewhat difficult</td>\n",
       "      <td>No</td>\n",
       "      <td>No</td>\n",
       "      <td>Yes</td>\n",
       "      <td>Yes</td>\n",
       "      <td>Yes</td>\n",
       "      <td>Yes</td>\n",
       "      <td>No</td>\n",
       "      <td>No</td>\n",
       "      <td>NaN</td>\n",
       "    </tr>\n",
       "    <tr>\n",
       "      <th>3</th>\n",
       "      <td>2014-08-27 11:29:46</td>\n",
       "      <td>31</td>\n",
       "      <td>Male</td>\n",
       "      <td>United Kingdom</td>\n",
       "      <td>NaN</td>\n",
       "      <td>NaN</td>\n",
       "      <td>Yes</td>\n",
       "      <td>Yes</td>\n",
       "      <td>Often</td>\n",
       "      <td>26-100</td>\n",
       "      <td>No</td>\n",
       "      <td>No</td>\n",
       "      <td>Yes</td>\n",
       "      <td>No</td>\n",
       "      <td>No</td>\n",
       "      <td>No</td>\n",
       "      <td>Somewhat difficult</td>\n",
       "      <td>Yes</td>\n",
       "      <td>Yes</td>\n",
       "      <td>Some of them</td>\n",
       "      <td>No</td>\n",
       "      <td>Maybe</td>\n",
       "      <td>Maybe</td>\n",
       "      <td>No</td>\n",
       "      <td>Yes</td>\n",
       "      <td>NaN</td>\n",
       "    </tr>\n",
       "    <tr>\n",
       "      <th>4</th>\n",
       "      <td>2014-08-27 11:30:22</td>\n",
       "      <td>31</td>\n",
       "      <td>Male</td>\n",
       "      <td>United States</td>\n",
       "      <td>TX</td>\n",
       "      <td>NaN</td>\n",
       "      <td>No</td>\n",
       "      <td>No</td>\n",
       "      <td>Never</td>\n",
       "      <td>100-500</td>\n",
       "      <td>Yes</td>\n",
       "      <td>Yes</td>\n",
       "      <td>No</td>\n",
       "      <td>Don't know</td>\n",
       "      <td>Don't know</td>\n",
       "      <td>Don't know</td>\n",
       "      <td>Don't know</td>\n",
       "      <td>No</td>\n",
       "      <td>No</td>\n",
       "      <td>Some of them</td>\n",
       "      <td>Yes</td>\n",
       "      <td>Yes</td>\n",
       "      <td>Yes</td>\n",
       "      <td>Don't know</td>\n",
       "      <td>No</td>\n",
       "      <td>NaN</td>\n",
       "    </tr>\n",
       "    <tr>\n",
       "      <th>5</th>\n",
       "      <td>2014-08-27 11:31:22</td>\n",
       "      <td>33</td>\n",
       "      <td>Male</td>\n",
       "      <td>United States</td>\n",
       "      <td>TN</td>\n",
       "      <td>NaN</td>\n",
       "      <td>Yes</td>\n",
       "      <td>No</td>\n",
       "      <td>Sometimes</td>\n",
       "      <td>6-25</td>\n",
       "      <td>No</td>\n",
       "      <td>Yes</td>\n",
       "      <td>Not sure</td>\n",
       "      <td>No</td>\n",
       "      <td>Don't know</td>\n",
       "      <td>Don't know</td>\n",
       "      <td>Don't know</td>\n",
       "      <td>No</td>\n",
       "      <td>No</td>\n",
       "      <td>Yes</td>\n",
       "      <td>Yes</td>\n",
       "      <td>No</td>\n",
       "      <td>Maybe</td>\n",
       "      <td>Don't know</td>\n",
       "      <td>No</td>\n",
       "      <td>NaN</td>\n",
       "    </tr>\n",
       "  </tbody>\n",
       "</table>\n",
       "</div>"
      ],
      "text/plain": [
       "             Timestamp  Age  Gender         Country state self_employed  \\\n",
       "0  2014-08-27 11:29:31   37  Female   United States    IL           NaN   \n",
       "2  2014-08-27 11:29:44   32    Male          Canada   NaN           NaN   \n",
       "3  2014-08-27 11:29:46   31    Male  United Kingdom   NaN           NaN   \n",
       "4  2014-08-27 11:30:22   31    Male   United States    TX           NaN   \n",
       "5  2014-08-27 11:31:22   33    Male   United States    TN           NaN   \n",
       "\n",
       "  family_history treatment work_interfere no_employees remote_work benefits  \\\n",
       "0             No       Yes          Often         6-25          No      Yes   \n",
       "2             No        No         Rarely         6-25          No       No   \n",
       "3            Yes       Yes          Often       26-100          No       No   \n",
       "4             No        No          Never      100-500         Yes      Yes   \n",
       "5            Yes        No      Sometimes         6-25          No      Yes   \n",
       "\n",
       "  care_options wellness_program   seek_help   anonymity               leave  \\\n",
       "0     Not sure               No         Yes         Yes       Somewhat easy   \n",
       "2           No               No          No  Don't know  Somewhat difficult   \n",
       "3          Yes               No          No          No  Somewhat difficult   \n",
       "4           No       Don't know  Don't know  Don't know          Don't know   \n",
       "5     Not sure               No  Don't know  Don't know          Don't know   \n",
       "\n",
       "  mental_health_consequence phys_health_consequence     coworkers supervisor  \\\n",
       "0                        No                      No  Some of them        Yes   \n",
       "2                        No                      No           Yes        Yes   \n",
       "3                       Yes                     Yes  Some of them         No   \n",
       "4                        No                      No  Some of them        Yes   \n",
       "5                        No                      No           Yes        Yes   \n",
       "\n",
       "  mental_health_interview phys_health_interview mental_vs_physical  \\\n",
       "0                      No                 Maybe                Yes   \n",
       "2                     Yes                   Yes                 No   \n",
       "3                   Maybe                 Maybe                 No   \n",
       "4                     Yes                   Yes         Don't know   \n",
       "5                      No                 Maybe         Don't know   \n",
       "\n",
       "  obs_consequence comments  \n",
       "0              No      NaN  \n",
       "2              No      NaN  \n",
       "3             Yes      NaN  \n",
       "4              No      NaN  \n",
       "5              No      NaN  "
      ]
     },
     "execution_count": 8,
     "metadata": {},
     "output_type": "execute_result"
    }
   ],
   "source": [
    "data = data_tech.drop(['tech_company'], axis=1)\n",
    "data.head()"
   ]
  },
  {
   "cell_type": "markdown",
   "metadata": {},
   "source": [
    "**Obiettivo**: andiamo ad ispezionare il contenuto delle colonne del dataset filtrato alla ricerca di valori anomali che facilmente potrebbero essere presenti in una survey."
   ]
  },
  {
   "cell_type": "code",
   "execution_count": 9,
   "metadata": {
    "scrolled": true
   },
   "outputs": [
    {
     "data": {
      "text/plain": [
       " 32             71\n",
       " 29             66\n",
       " 26             66\n",
       " 33             64\n",
       " 27             63\n",
       " 31             60\n",
       " 28             57\n",
       " 30             52\n",
       " 34             52\n",
       " 25             49\n",
       " 35             42\n",
       " 24             41\n",
       " 23             39\n",
       " 37             32\n",
       " 36             30\n",
       " 38             29\n",
       " 40             26\n",
       " 39             25\n",
       " 43             21\n",
       " 22             20\n",
       " 41             17\n",
       " 42             13\n",
       " 21              9\n",
       " 46              9\n",
       " 45              9\n",
       " 19              8\n",
       " 44              6\n",
       " 18              6\n",
       " 50              6\n",
       " 48              5\n",
       " 20              5\n",
       " 56              4\n",
       " 51              4\n",
       " 49              4\n",
       " 57              3\n",
       " 60              2\n",
       " 54              2\n",
       " 55              2\n",
       " 47              2\n",
       " 53              1\n",
       " 11              1\n",
       " 8               1\n",
       " 61              1\n",
       " 58              1\n",
       " 5               1\n",
       " 62              1\n",
       " 99999999999     1\n",
       " 329             1\n",
       "-1               1\n",
       "Name: Age, dtype: int64"
      ]
     },
     "execution_count": 9,
     "metadata": {},
     "output_type": "execute_result"
    }
   ],
   "source": [
    "data.Age.value_counts()"
   ]
  },
  {
   "cell_type": "markdown",
   "metadata": {},
   "source": [
    "*Nota*: la colonna 'Age' presenta alcuni valori non corrispondenti ad un'età.\\\n",
    "\\\n",
    "*Come ci si intende muovere*: si andranno a raggruppare le età in intervalli così da diminuire il numero di righe rappresentanti l'età e rendere il risultato dell'encoding meno massiccio."
   ]
  },
  {
   "cell_type": "code",
   "execution_count": 10,
   "metadata": {
    "scrolled": true
   },
   "outputs": [
    {
     "data": {
      "text/plain": [
       "Male                        512\n",
       "male                        172\n",
       "M                            98\n",
       "Female                       94\n",
       "female                       46\n",
       "F                            31\n",
       "m                            25\n",
       "f                            10\n",
       "Make                          4\n",
       "Male                          3\n",
       "Female                        2\n",
       "Man                           2\n",
       "Woman                         2\n",
       "Cis Male                      2\n",
       "Female (cis)                  1\n",
       "queer                         1\n",
       "Mail                          1\n",
       "Female (trans)                1\n",
       "msle                          1\n",
       "cis male                      1\n",
       "A little about you            1\n",
       "Malr                          1\n",
       "p                             1\n",
       "male leaning androgynous      1\n",
       "Agender                       1\n",
       "Androgyne                     1\n",
       "Nah                           1\n",
       "Genderqueer                   1\n",
       "fluid                         1\n",
       "Enby                          1\n",
       "All                           1\n",
       "Femake                        1\n",
       "non-binary                    1\n",
       "queer/she/they                1\n",
       "Male (CIS)                    1\n",
       "Mal                           1\n",
       "something kinda male?         1\n",
       "Cis Female                    1\n",
       "Trans-female                  1\n",
       "maile                         1\n",
       "Male-ish                      1\n",
       "Cis Man                       1\n",
       "Name: Gender, dtype: int64"
      ]
     },
     "execution_count": 10,
     "metadata": {},
     "output_type": "execute_result"
    }
   ],
   "source": [
    "data['Gender'].value_counts()"
   ]
  },
  {
   "cell_type": "markdown",
   "metadata": {},
   "source": [
    "*Nota*: la colonna 'Gender' presenta alcuni campi senza alcun significato ed altri indicano altre tipologie di genere rispetto allo standard maschio/femmina indicato nei questionari.\\\n",
    "\\\n",
    "*Come ci si intende muovere*: si andranno a raggruppare i generi nei macrogeneri 'Male' e 'Female' per praticità.\\\n"
   ]
  },
  {
   "cell_type": "code",
   "execution_count": 11,
   "metadata": {
    "scrolled": true
   },
   "outputs": [
    {
     "data": {
      "text/plain": [
       "United States             611\n",
       "United Kingdom            139\n",
       "Canada                     56\n",
       "Germany                    40\n",
       "Ireland                    26\n",
       "Netherlands                25\n",
       "Australia                  17\n",
       "France                     12\n",
       "India                       9\n",
       "Switzerland                 7\n",
       "Poland                      7\n",
       "New Zealand                 7\n",
       "Sweden                      7\n",
       "Brazil                      6\n",
       "Italy                       5\n",
       "South Africa                4\n",
       "Singapore                   4\n",
       "Israel                      4\n",
       "Bulgaria                    4\n",
       "Belgium                     3\n",
       "Austria                     3\n",
       "Mexico                      3\n",
       "Russia                      3\n",
       "Croatia                     2\n",
       "Colombia                    2\n",
       "Greece                      2\n",
       "Finland                     2\n",
       "Denmark                     2\n",
       "Portugal                    2\n",
       "China                       1\n",
       "Czech Republic              1\n",
       "Moldova                     1\n",
       "Bahamas, The                1\n",
       "Thailand                    1\n",
       "Norway                      1\n",
       "Latvia                      1\n",
       "Nigeria                     1\n",
       "Japan                       1\n",
       "Hungary                     1\n",
       "Bosnia and Herzegovina      1\n",
       "Uruguay                     1\n",
       "Spain                       1\n",
       "Zimbabwe                    1\n",
       "Costa Rica                  1\n",
       "Slovenia                    1\n",
       "Philippines                 1\n",
       "Name: Country, dtype: int64"
      ]
     },
     "execution_count": 11,
     "metadata": {},
     "output_type": "execute_result"
    }
   ],
   "source": [
    "data['Country'].value_counts()"
   ]
  },
  {
   "cell_type": "markdown",
   "metadata": {},
   "source": [
    "*Nota*: la colonna 'Country' potrebbe essere compressa per continente.\\\n",
    "\\\n",
    "*Come ci si intende muovere*: si andranno a raggruppare i paesi nei continenti 'Europa', 'America', 'Asia', 'Oceania', 'Africa'.\\"
   ]
  },
  {
   "cell_type": "markdown",
   "metadata": {},
   "source": [
    "**Obiettivo**: andiamo ad individuare la colonna *target*."
   ]
  },
  {
   "cell_type": "code",
   "execution_count": 12,
   "metadata": {},
   "outputs": [
    {
     "data": {
      "text/plain": [
       "No     517\n",
       "Yes    514\n",
       "Name: treatment, dtype: int64"
      ]
     },
     "execution_count": 12,
     "metadata": {},
     "output_type": "execute_result"
    }
   ],
   "source": [
    "data['treatment'].value_counts()"
   ]
  },
  {
   "cell_type": "markdown",
   "metadata": {},
   "source": [
    "## Data Cleaning"
   ]
  },
  {
   "cell_type": "markdown",
   "metadata": {},
   "source": [
    "Creo una nuova colonna 'Age_range' contenente gli intervalli di età."
   ]
  },
  {
   "cell_type": "code",
   "execution_count": 13,
   "metadata": {
    "scrolled": true
   },
   "outputs": [
    {
     "name": "stdout",
     "output_type": "stream",
     "text": [
      "\n",
      "Controllo mapping:\n",
      "\n",
      "Age_range  Age         \n",
      "18-30       26             66\n",
      "            29             66\n",
      "            27             63\n",
      "            28             57\n",
      "            25             49\n",
      "            24             41\n",
      "            23             39\n",
      "            22             20\n",
      "            21              9\n",
      "            19              8\n",
      "            18              6\n",
      "            20              5\n",
      "30-40       32             71\n",
      "            33             64\n",
      "            31             60\n",
      "            30             52\n",
      "            34             52\n",
      "            35             42\n",
      "            37             32\n",
      "            36             30\n",
      "            38             29\n",
      "            39             25\n",
      "40-50       40             26\n",
      "            43             21\n",
      "            41             17\n",
      "            42             13\n",
      "            45              9\n",
      "            46              9\n",
      "            44              6\n",
      "            48              5\n",
      "            49              4\n",
      "            47              2\n",
      "50-65       50              6\n",
      "            51              4\n",
      "            56              4\n",
      "            57              3\n",
      "            54              2\n",
      "            55              2\n",
      "            60              2\n",
      "            53              1\n",
      "            58              1\n",
      "            61              1\n",
      "            62              1\n",
      "None       -1               1\n",
      "            5               1\n",
      "            8               1\n",
      "            11              1\n",
      "            329             1\n",
      "            99999999999     1\n",
      "Name: Age, dtype: int64\n",
      "\n",
      "Controllo mapping senza None:\n"
     ]
    },
    {
     "data": {
      "text/plain": [
       "Age_range  Age         \n",
       "18-30       26             66\n",
       "            29             66\n",
       "            27             63\n",
       "            28             57\n",
       "            25             49\n",
       "            24             41\n",
       "            23             39\n",
       "            22             20\n",
       "            21              9\n",
       "            19              8\n",
       "            18              6\n",
       "            20              5\n",
       "30-40       32             71\n",
       "            33             64\n",
       "            31             60\n",
       "            30             52\n",
       "            34             52\n",
       "            35             42\n",
       "            37             32\n",
       "            36             30\n",
       "            38             29\n",
       "            39             25\n",
       "           -1               1\n",
       "            5               1\n",
       "            8               1\n",
       "            11              1\n",
       "            329             1\n",
       "            99999999999     1\n",
       "40-50       40             26\n",
       "            43             21\n",
       "            41             17\n",
       "            42             13\n",
       "            45              9\n",
       "            46              9\n",
       "            44              6\n",
       "            48              5\n",
       "            49              4\n",
       "            47              2\n",
       "50-65       50              6\n",
       "            51              4\n",
       "            56              4\n",
       "            57              3\n",
       "            54              2\n",
       "            55              2\n",
       "            60              2\n",
       "            53              1\n",
       "            58              1\n",
       "            61              1\n",
       "            62              1\n",
       "Name: Age, dtype: int64"
      ]
     },
     "execution_count": 13,
     "metadata": {},
     "output_type": "execute_result"
    }
   ],
   "source": [
    "bins = [18, 30, 40, 50, 65]\n",
    "names = ['18-30', '30-40', '40-50', '50-65']\n",
    "d = dict(enumerate(names, 1))\n",
    "\n",
    "data['Age_range'] = np.vectorize(d.get)(np.digitize((data.Age.astype(int)), bins))\n",
    "\n",
    "print('\\nControllo mapping:\\n')\n",
    "print(data.groupby('Age_range')['Age'].value_counts())\n",
    "\n",
    "data['Age_range'] = data['Age_range'].replace('None', '30-40')\n",
    "\n",
    "print('\\nControllo mapping senza None:')\n",
    "data.groupby('Age_range')['Age'].value_counts()"
   ]
  },
  {
   "cell_type": "markdown",
   "metadata": {},
   "source": [
    "Aggiungo una nuova colonna 'Gender_new' con le sole stringhe 'Male' e 'Female'."
   ]
  },
  {
   "cell_type": "code",
   "execution_count": 14,
   "metadata": {
    "scrolled": true
   },
   "outputs": [
    {
     "name": "stdout",
     "output_type": "stream",
     "text": [
      "\n",
      "Controllo mapping:\n"
     ]
    },
    {
     "data": {
      "text/plain": [
       "Gender_new  Gender                  \n",
       "Female      Female                       94\n",
       "            female                       46\n",
       "            F                            31\n",
       "            f                            10\n",
       "            Female                        2\n",
       "            Woman                         2\n",
       "            A little about you            1\n",
       "            Agender                       1\n",
       "            All                           1\n",
       "            Androgyne                     1\n",
       "            Cis Female                    1\n",
       "            Enby                          1\n",
       "            Femake                        1\n",
       "            Female (cis)                  1\n",
       "            Female (trans)                1\n",
       "            Genderqueer                   1\n",
       "            Nah                           1\n",
       "            Trans-female                  1\n",
       "            fluid                         1\n",
       "            non-binary                    1\n",
       "            queer                         1\n",
       "            queer/she/they                1\n",
       "Male        Male                        512\n",
       "            male                        172\n",
       "            M                            98\n",
       "            m                            25\n",
       "            Make                          4\n",
       "            Male                          3\n",
       "            Cis Male                      2\n",
       "            Man                           2\n",
       "            Cis Man                       1\n",
       "            Mail                          1\n",
       "            Mal                           1\n",
       "            Male (CIS)                    1\n",
       "            Male-ish                      1\n",
       "            Malr                          1\n",
       "            cis male                      1\n",
       "            maile                         1\n",
       "            male leaning androgynous      1\n",
       "            msle                          1\n",
       "            p                             1\n",
       "            something kinda male?         1\n",
       "Name: Gender, dtype: int64"
      ]
     },
     "execution_count": 14,
     "metadata": {},
     "output_type": "execute_result"
    }
   ],
   "source": [
    "gender_new = {'Male':'Male', 'male':'Male', 'm':'Male', 'M':'Male', 'Make':'Male', 'Male ':'Male', \n",
    "              'Man':'Male', 'Cis Male':'Male', 'Mail':'Male', 'msle':'Male', 'cis male':'Male',\n",
    "              'Malr':'Male', 'male leaning androgynous':'Male', 'p':'Male', 'Male (CIS)':'Male',\n",
    "              'Mal':'Male', 'something kinda male?':'Male', 'maile':'Male', 'Male-ish':'Male', 'Cis Man':'Male',\n",
    "              'Female':'Female', 'female':'Female', 'f':'Female', 'F':'Female', 'Female ':'Female', 'Woman':'Female',\n",
    "              'Female (cis)':'Female', 'queer':'Female', 'Female (trans)':'Female', 'A little about you':'Female',\n",
    "              'queer/she/they':'Female', 'Cis Female':'Female', 'Trans-female':'Female', 'Femake':'Female',\n",
    "              'Agender':'Female', 'Androgyne':'Female', 'Nah':'Female', 'Genderqueer':'Female', 'fluid':'Female', \n",
    "              'Enby':'Female', 'All':'Female', 'non-binary':'Female'}\n",
    "\n",
    "data['Gender_new'] = data['Gender'].map(gender_new)\n",
    "\n",
    "print('\\nControllo mapping:')\n",
    "data.groupby('Gender_new')['Gender'].value_counts()"
   ]
  },
  {
   "cell_type": "markdown",
   "metadata": {},
   "source": [
    "Aggiungo una nuova colonna 'Continent' con i soli continenti 'Europa', 'America', 'Asia', 'Oceania', 'Africa'."
   ]
  },
  {
   "cell_type": "code",
   "execution_count": 15,
   "metadata": {
    "scrolled": true
   },
   "outputs": [
    {
     "name": "stdout",
     "output_type": "stream",
     "text": [
      "\n",
      "Controllo mapping:\n"
     ]
    },
    {
     "data": {
      "text/plain": [
       "Continent  Country               \n",
       "Africa     South Africa                4\n",
       "           Nigeria                     1\n",
       "           Zimbabwe                    1\n",
       "America    United States             611\n",
       "           Canada                     56\n",
       "           Brazil                      6\n",
       "           Mexico                      3\n",
       "           Colombia                    2\n",
       "           Bahamas, The                1\n",
       "           Costa Rica                  1\n",
       "           Uruguay                     1\n",
       "Asia       India                       9\n",
       "           Israel                      4\n",
       "           Singapore                   4\n",
       "           Russia                      3\n",
       "           China                       1\n",
       "           Japan                       1\n",
       "           Philippines                 1\n",
       "           Thailand                    1\n",
       "Europa     United Kingdom            139\n",
       "           Germany                    40\n",
       "           Ireland                    26\n",
       "           Netherlands                25\n",
       "           France                     12\n",
       "           Poland                      7\n",
       "           Sweden                      7\n",
       "           Switzerland                 7\n",
       "           Italy                       5\n",
       "           Bulgaria                    4\n",
       "           Austria                     3\n",
       "           Belgium                     3\n",
       "           Croatia                     2\n",
       "           Denmark                     2\n",
       "           Finland                     2\n",
       "           Greece                      2\n",
       "           Portugal                    2\n",
       "           Bosnia and Herzegovina      1\n",
       "           Czech Republic              1\n",
       "           Hungary                     1\n",
       "           Latvia                      1\n",
       "           Moldova                     1\n",
       "           Norway                      1\n",
       "           Slovenia                    1\n",
       "           Spain                       1\n",
       "Oceania    Australia                  17\n",
       "           New Zealand                 7\n",
       "Name: Country, dtype: int64"
      ]
     },
     "execution_count": 15,
     "metadata": {},
     "output_type": "execute_result"
    }
   ],
   "source": [
    "america_key = ['United States', 'Canada', 'Brazil', 'Mexico', \n",
    "               'Colombia', 'Bahamas, The', 'Uruguay', 'Costa Rica']\n",
    "asia_key = ['India', 'Singapore', 'Israel', 'Russia', 'China', 'Thailand', 'Japan', 'Philippines']\n",
    "africa_key = ['South Africa', 'Nigeria', 'Zimbabwe']\n",
    "europa_key = ['United Kingdom', 'Germany', 'Ireland', 'Netherlands', 'France', 'Switzerland', 'Poland',\n",
    "             'Sweden', 'Italy', 'Bulgaria', 'Belgium', 'Austria', 'Croatia', 'Greece', 'Finland',\n",
    "             'Denmark', 'Portugal', 'Czech Republic', 'Moldova', 'Norway', 'Latvia', 'Hungary', \n",
    "              'Bosnia and Herzegovina', 'Spain', 'Slovenia']\n",
    "oceania_key = ['Australia', 'New Zealand']\n",
    "\n",
    "continent = {}\n",
    "for k in america_key:\n",
    "    continent[k] = 'America'\n",
    "for k in asia_key:\n",
    "    continent[k] = 'Asia'\n",
    "for k in africa_key:\n",
    "    continent[k] = 'Africa'\n",
    "for k in europa_key:\n",
    "    continent[k] = 'Europa'\n",
    "for k in oceania_key:\n",
    "    continent[k] = 'Oceania'\n",
    "\n",
    "data['Continent'] = data['Country'].map(continent)\n",
    "\n",
    "print('\\nControllo mapping:')\n",
    "data.groupby('Continent')['Country'].value_counts()"
   ]
  },
  {
   "cell_type": "markdown",
   "metadata": {},
   "source": [
    "## Data Pre-Processing"
   ]
  },
  {
   "cell_type": "markdown",
   "metadata": {},
   "source": [
    "**Obiettivo**: Andiamo ad eliminare le colonne che non vogliamo utilizzare."
   ]
  },
  {
   "cell_type": "code",
   "execution_count": 16,
   "metadata": {},
   "outputs": [
    {
     "name": "stdout",
     "output_type": "stream",
     "text": [
      "<class 'pandas.core.frame.DataFrame'>\n",
      "Int64Index: 1031 entries, 0 to 1257\n",
      "Data columns (total 29 columns):\n",
      " #   Column                     Non-Null Count  Dtype \n",
      "---  ------                     --------------  ----- \n",
      " 0   Timestamp                  1031 non-null   object\n",
      " 1   Age                        1031 non-null   int64 \n",
      " 2   Gender                     1031 non-null   object\n",
      " 3   Country                    1031 non-null   object\n",
      " 4   state                      605 non-null    object\n",
      " 5   self_employed              1015 non-null   object\n",
      " 6   family_history             1031 non-null   object\n",
      " 7   treatment                  1031 non-null   object\n",
      " 8   work_interfere             815 non-null    object\n",
      " 9   no_employees               1031 non-null   object\n",
      " 10  remote_work                1031 non-null   object\n",
      " 11  benefits                   1031 non-null   object\n",
      " 12  care_options               1031 non-null   object\n",
      " 13  wellness_program           1031 non-null   object\n",
      " 14  seek_help                  1031 non-null   object\n",
      " 15  anonymity                  1031 non-null   object\n",
      " 16  leave                      1031 non-null   object\n",
      " 17  mental_health_consequence  1031 non-null   object\n",
      " 18  phys_health_consequence    1031 non-null   object\n",
      " 19  coworkers                  1031 non-null   object\n",
      " 20  supervisor                 1031 non-null   object\n",
      " 21  mental_health_interview    1031 non-null   object\n",
      " 22  phys_health_interview      1031 non-null   object\n",
      " 23  mental_vs_physical         1031 non-null   object\n",
      " 24  obs_consequence            1031 non-null   object\n",
      " 25  comments                   134 non-null    object\n",
      " 26  Age_range                  1031 non-null   object\n",
      " 27  Gender_new                 1031 non-null   object\n",
      " 28  Continent                  1031 non-null   object\n",
      "dtypes: int64(1), object(28)\n",
      "memory usage: 241.6+ KB\n"
     ]
    }
   ],
   "source": [
    "data.info()"
   ]
  },
  {
   "cell_type": "code",
   "execution_count": 17,
   "metadata": {},
   "outputs": [],
   "source": [
    "data_final = data.drop(['Timestamp','Age','Gender','Country','state','self_employed','work_interfere','comments'], axis=1)"
   ]
  },
  {
   "cell_type": "code",
   "execution_count": 18,
   "metadata": {},
   "outputs": [
    {
     "name": "stdout",
     "output_type": "stream",
     "text": [
      "<class 'pandas.core.frame.DataFrame'>\n",
      "Int64Index: 1031 entries, 0 to 1257\n",
      "Data columns (total 21 columns):\n",
      " #   Column                     Non-Null Count  Dtype \n",
      "---  ------                     --------------  ----- \n",
      " 0   family_history             1031 non-null   object\n",
      " 1   treatment                  1031 non-null   object\n",
      " 2   no_employees               1031 non-null   object\n",
      " 3   remote_work                1031 non-null   object\n",
      " 4   benefits                   1031 non-null   object\n",
      " 5   care_options               1031 non-null   object\n",
      " 6   wellness_program           1031 non-null   object\n",
      " 7   seek_help                  1031 non-null   object\n",
      " 8   anonymity                  1031 non-null   object\n",
      " 9   leave                      1031 non-null   object\n",
      " 10  mental_health_consequence  1031 non-null   object\n",
      " 11  phys_health_consequence    1031 non-null   object\n",
      " 12  coworkers                  1031 non-null   object\n",
      " 13  supervisor                 1031 non-null   object\n",
      " 14  mental_health_interview    1031 non-null   object\n",
      " 15  phys_health_interview      1031 non-null   object\n",
      " 16  mental_vs_physical         1031 non-null   object\n",
      " 17  obs_consequence            1031 non-null   object\n",
      " 18  Age_range                  1031 non-null   object\n",
      " 19  Gender_new                 1031 non-null   object\n",
      " 20  Continent                  1031 non-null   object\n",
      "dtypes: object(21)\n",
      "memory usage: 177.2+ KB\n"
     ]
    }
   ],
   "source": [
    "data_final.info()"
   ]
  },
  {
   "cell_type": "markdown",
   "metadata": {},
   "source": [
    "### Encoding"
   ]
  },
  {
   "cell_type": "code",
   "execution_count": 19,
   "metadata": {},
   "outputs": [],
   "source": [
    "dicto = {'1-5':0,'6-25':1,'26-100':2,'100-500':3,'500-1000':4,'More than 1000':5}\n",
    "data_final['no_employees_cat']= data_final['no_employees'].map(dicto)\n",
    "\n",
    "dicto_2 = {\"Don't know\":0,'Somewhat easy':1,'Very easy':2,'Somewhat difficult':3,'Very difficult':4}\n",
    "data_final['leave_cat'] = data_final['leave'].map(dicto_2)"
   ]
  },
  {
   "cell_type": "code",
   "execution_count": 20,
   "metadata": {},
   "outputs": [
    {
     "data": {
      "text/html": [
       "<div>\n",
       "<style scoped>\n",
       "    .dataframe tbody tr th:only-of-type {\n",
       "        vertical-align: middle;\n",
       "    }\n",
       "\n",
       "    .dataframe tbody tr th {\n",
       "        vertical-align: top;\n",
       "    }\n",
       "\n",
       "    .dataframe thead th {\n",
       "        text-align: right;\n",
       "    }\n",
       "</style>\n",
       "<table border=\"1\" class=\"dataframe\">\n",
       "  <thead>\n",
       "    <tr style=\"text-align: right;\">\n",
       "      <th></th>\n",
       "      <th>no_employees</th>\n",
       "      <th>no_employees_cat</th>\n",
       "      <th>leave_cat</th>\n",
       "      <th>leave</th>\n",
       "    </tr>\n",
       "  </thead>\n",
       "  <tbody>\n",
       "    <tr>\n",
       "      <th>0</th>\n",
       "      <td>6-25</td>\n",
       "      <td>1</td>\n",
       "      <td>1</td>\n",
       "      <td>Somewhat easy</td>\n",
       "    </tr>\n",
       "    <tr>\n",
       "      <th>2</th>\n",
       "      <td>6-25</td>\n",
       "      <td>1</td>\n",
       "      <td>3</td>\n",
       "      <td>Somewhat difficult</td>\n",
       "    </tr>\n",
       "    <tr>\n",
       "      <th>3</th>\n",
       "      <td>26-100</td>\n",
       "      <td>2</td>\n",
       "      <td>3</td>\n",
       "      <td>Somewhat difficult</td>\n",
       "    </tr>\n",
       "    <tr>\n",
       "      <th>4</th>\n",
       "      <td>100-500</td>\n",
       "      <td>3</td>\n",
       "      <td>0</td>\n",
       "      <td>Don't know</td>\n",
       "    </tr>\n",
       "    <tr>\n",
       "      <th>5</th>\n",
       "      <td>6-25</td>\n",
       "      <td>1</td>\n",
       "      <td>0</td>\n",
       "      <td>Don't know</td>\n",
       "    </tr>\n",
       "    <tr>\n",
       "      <th>...</th>\n",
       "      <td>...</td>\n",
       "      <td>...</td>\n",
       "      <td>...</td>\n",
       "      <td>...</td>\n",
       "    </tr>\n",
       "    <tr>\n",
       "      <th>1252</th>\n",
       "      <td>100-500</td>\n",
       "      <td>3</td>\n",
       "      <td>0</td>\n",
       "      <td>Don't know</td>\n",
       "    </tr>\n",
       "    <tr>\n",
       "      <th>1254</th>\n",
       "      <td>26-100</td>\n",
       "      <td>2</td>\n",
       "      <td>1</td>\n",
       "      <td>Somewhat easy</td>\n",
       "    </tr>\n",
       "    <tr>\n",
       "      <th>1255</th>\n",
       "      <td>26-100</td>\n",
       "      <td>2</td>\n",
       "      <td>3</td>\n",
       "      <td>Somewhat difficult</td>\n",
       "    </tr>\n",
       "    <tr>\n",
       "      <th>1256</th>\n",
       "      <td>More than 1000</td>\n",
       "      <td>5</td>\n",
       "      <td>3</td>\n",
       "      <td>Somewhat difficult</td>\n",
       "    </tr>\n",
       "    <tr>\n",
       "      <th>1257</th>\n",
       "      <td>100-500</td>\n",
       "      <td>3</td>\n",
       "      <td>0</td>\n",
       "      <td>Don't know</td>\n",
       "    </tr>\n",
       "  </tbody>\n",
       "</table>\n",
       "<p>1031 rows × 4 columns</p>\n",
       "</div>"
      ],
      "text/plain": [
       "        no_employees  no_employees_cat  leave_cat               leave\n",
       "0               6-25                 1          1       Somewhat easy\n",
       "2               6-25                 1          3  Somewhat difficult\n",
       "3             26-100                 2          3  Somewhat difficult\n",
       "4            100-500                 3          0          Don't know\n",
       "5               6-25                 1          0          Don't know\n",
       "...              ...               ...        ...                 ...\n",
       "1252         100-500                 3          0          Don't know\n",
       "1254          26-100                 2          1       Somewhat easy\n",
       "1255          26-100                 2          3  Somewhat difficult\n",
       "1256  More than 1000                 5          3  Somewhat difficult\n",
       "1257         100-500                 3          0          Don't know\n",
       "\n",
       "[1031 rows x 4 columns]"
      ]
     },
     "execution_count": 20,
     "metadata": {},
     "output_type": "execute_result"
    }
   ],
   "source": [
    "data_final[['no_employees','no_employees_cat','leave_cat','leave']]"
   ]
  },
  {
   "cell_type": "code",
   "execution_count": 21,
   "metadata": {},
   "outputs": [],
   "source": [
    "object_cols = ['Gender_new', 'family_history','treatment',\n",
    "        'remote_work', 'benefits', 'care_options', 'wellness_program', 'seek_help',\n",
    "       'anonymity',  'mental_health_consequence',\n",
    "       'phys_health_consequence', 'coworkers', 'supervisor',\n",
    "       'mental_health_interview', 'phys_health_interview',\n",
    "       'mental_vs_physical', 'obs_consequence','Age_range','Continent']\n",
    "\n",
    "\n",
    "label_encoder = LabelEncoder()\n",
    "for col in object_cols:\n",
    "    label_encoder.fit(data_final[col])\n",
    "    data_final[col] = label_encoder.transform(data_final[col])"
   ]
  },
  {
   "cell_type": "markdown",
   "metadata": {},
   "source": [
    "**Obiettivo**: andiamo ad estrarre la matrice delle *features* e la colonna *target*."
   ]
  },
  {
   "cell_type": "code",
   "execution_count": 22,
   "metadata": {},
   "outputs": [],
   "source": [
    "y = data_final['treatment'].values\n",
    "X = data_final.drop(['treatment','no_employees','leave'], axis=1)"
   ]
  },
  {
   "cell_type": "markdown",
   "metadata": {},
   "source": [
    "## Model Implementation"
   ]
  },
  {
   "cell_type": "code",
   "execution_count": 23,
   "metadata": {},
   "outputs": [],
   "source": [
    "X_train, X_test, y_train, y_test = train_test_split(X, y, test_size=0.2, random_state=42, shuffle=True)"
   ]
  },
  {
   "cell_type": "code",
   "execution_count": 24,
   "metadata": {},
   "outputs": [
    {
     "data": {
      "text/plain": [
       "((824, 20), (207, 20), (824,), (207,))"
      ]
     },
     "execution_count": 24,
     "metadata": {},
     "output_type": "execute_result"
    }
   ],
   "source": [
    "X_train.shape, X_test.shape, y_train.shape, y_test.shape"
   ]
  },
  {
   "cell_type": "code",
   "execution_count": 25,
   "metadata": {},
   "outputs": [
    {
     "data": {
      "text/plain": [
       "array([414, 410], dtype=int64)"
      ]
     },
     "execution_count": 25,
     "metadata": {},
     "output_type": "execute_result"
    }
   ],
   "source": [
    "np.bincount(y_train.astype(int))"
   ]
  },
  {
   "cell_type": "markdown",
   "metadata": {},
   "source": [
    "### Anche se non richiesto dall'esercizio qui c'è un possibile modello di machine learning su cui riflettere"
   ]
  },
  {
   "cell_type": "markdown",
   "metadata": {},
   "source": [
    "### Decision Tree"
   ]
  },
  {
   "cell_type": "code",
   "execution_count": 26,
   "metadata": {},
   "outputs": [],
   "source": [
    "\n",
    "dsc = DecisionTreeClassifier( criterion='entropy',max_depth=3)\n",
    "dsc = dsc.fit(X_train, y_train)\n",
    "\n",
    "y_pred = dsc.predict(X_test)"
   ]
  },
  {
   "cell_type": "code",
   "execution_count": 27,
   "metadata": {},
   "outputs": [
    {
     "data": {
      "image/png": "[encoded data removed]",
      "text/plain": [
       "<Figure size 432x288 with 2 Axes>"
      ]
     },
     "metadata": {
      "needs_background": "light"
     },
     "output_type": "display_data"
    }
   ],
   "source": [
    "cf_matrix = confusion_matrix(y_test, y_pred)\n",
    "sns.heatmap(cf_matrix, annot=True, cmap='Purples')\n",
    "plt.title('Confusion Matrix', fontweight='bold', fontsize=16)\n",
    "plt.xlabel('Predicted', fontweight='bold', fontsize=12)\n",
    "plt.ylabel('Actual', fontweight='bold', fontsize=12)\n",
    "plt.show();"
   ]
  },
  {
   "cell_type": "markdown",
   "metadata": {},
   "source": [
    "#### Evaluate DS Model"
   ]
  },
  {
   "cell_type": "code",
   "execution_count": 28,
   "metadata": {},
   "outputs": [
    {
     "name": "stdout",
     "output_type": "stream",
     "text": [
      "Accuracy - Test Set:  0.6956521739130435\n"
     ]
    }
   ],
   "source": [
    "print('Accuracy - Test Set: ', metrics.accuracy_score(y_test, y_pred))"
   ]
  },
  {
   "cell_type": "code",
   "execution_count": 29,
   "metadata": {},
   "outputs": [
    {
     "name": "stdout",
     "output_type": "stream",
     "text": [
      "Report \n",
      "               precision    recall  f1-score   support\n",
      "\n",
      "           0       0.70      0.67      0.69       103\n",
      "           1       0.69      0.72      0.70       104\n",
      "\n",
      "    accuracy                           0.70       207\n",
      "   macro avg       0.70      0.70      0.70       207\n",
      "weighted avg       0.70      0.70      0.70       207\n",
      "\n"
     ]
    }
   ],
   "source": [
    "print('Report \\n', metrics.classification_report(y_test, y_pred))"
   ]
  },
  {
   "cell_type": "markdown",
   "metadata": {},
   "source": [
    "-------------------------------------------------------------------------------------------------------------------------------\n",
    "**Rispondere alle seguenti domande per iscritto, giustificandole attraverso l'osservazione superficiale del dataset**\n",
    "\n",
    "- E possibile prevedere se un dipendente di una compagnia tech abbia o meno una malattia mentale in base alle caratteristiche presenti nel set di dati (link in basso) attraverso un modello di machine learning? **Sì, abbiamo abbastanza features a disposizione** \n",
    "\n",
    "- In caso affermativo, che tipo di problema sarebbe: regressione o classificazione? **Classificazione**\n",
    "\n",
    "- Inoltre, quale potrebbe essere la colonna target in questo caso? \n",
    " **La colonna Treatment**\n"
   ]
  },
  {
   "cell_type": "code",
   "execution_count": null,
   "metadata": {},
   "outputs": [],
   "source": []
  },
  {
   "cell_type": "code",
   "execution_count": null,
   "metadata": {},
   "outputs": [],
   "source": []
  }
 ],
 "metadata": {
  "kernelspec": {
   "display_name": "Python 3",
   "language": "python",
   "name": "python3"
  },
  "language_info": {
   "codemirror_mode": {
    "name": "ipython",
    "version": 3
   },
   "file_extension": ".py",
   "mimetype": "text/x-python",
   "name": "python",
   "nbconvert_exporter": "python",
   "pygments_lexer": "ipython3",
   "version": "3.8.3"
  },
  "toc": {
   "base_numbering": 1,
   "nav_menu": {},
   "number_sections": true,
   "sideBar": true,
   "skip_h1_title": false,
   "title_cell": "Table of Contents",
   "title_sidebar": "Contents",
   "toc_cell": true,
   "toc_position": {
    "height": "calc(100% - 180px)",
    "left": "10px",
    "top": "150px",
    "width": "165px"
   },
   "toc_section_display": true,
   "toc_window_display": true
  },
  "varInspector": {
   "cols": {
    "lenName": 16,
    "lenType": 16,
    "lenVar": 40
   },
   "kernels_config": {
    "python": {
     "delete_cmd_postfix": "",
     "delete_cmd_prefix": "del ",
     "library": "var_list.py",
     "varRefreshCmd": "print(var_dic_list())"
    },
    "r": {
     "delete_cmd_postfix": ") ",
     "delete_cmd_prefix": "rm(",
     "library": "var_list.r",
     "varRefreshCmd": "cat(var_dic_list()) "
    }
   },
   "types_to_exclude": [
    "module",
    "function",
    "builtin_function_or_method",
    "instance",
    "_Feature"
   ],
   "window_display": false
  }
 },
 "nbformat": 4,
 "nbformat_minor": 4
}
