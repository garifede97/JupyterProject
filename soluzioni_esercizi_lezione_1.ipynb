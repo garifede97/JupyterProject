{
 "cells": [
  {
   "cell_type": "markdown",
   "metadata": {
    "id": "eggSp6OXJKQF",
    "toc": true
   },
   "source": [
    "<h1>Table of Contents<span class=\"tocSkip\"></span></h1>\n",
    "<div class=\"toc\"><ul class=\"toc-item\"><li><span><a href=\"#Lezione-1---Homeworks\" data-toc-modified-id=\"Lezione-1---Homeworks-1\"><span class=\"toc-item-num\">1&nbsp;&nbsp;</span>Lezione 1 - Homeworks</a></span><ul class=\"toc-item\"><li><span><a href=\"#Letture\" data-toc-modified-id=\"Letture-1.1\"><span class=\"toc-item-num\">1.1&nbsp;&nbsp;</span>Letture</a></span></li><li><span><a href=\"#Una-variante-di-k-NN:--RadiusNeighbors-(RN)\" data-toc-modified-id=\"Una-variante-di-k-NN:--RadiusNeighbors-(RN)-1.2\"><span class=\"toc-item-num\">1.2&nbsp;&nbsp;</span>Una variante di k-NN:  RadiusNeighbors (RN)</a></span><ul class=\"toc-item\"><li><span><a href=\"#Domanda-1\" data-toc-modified-id=\"Domanda-1-1.2.1\"><span class=\"toc-item-num\">1.2.1&nbsp;&nbsp;</span>Domanda 1</a></span></li><li><span><a href=\"#Domanda-2\" data-toc-modified-id=\"Domanda-2-1.2.2\"><span class=\"toc-item-num\">1.2.2&nbsp;&nbsp;</span>Domanda 2</a></span></li><li><span><a href=\"#Esercizio-1\" data-toc-modified-id=\"Esercizio-1-1.2.3\"><span class=\"toc-item-num\">1.2.3&nbsp;&nbsp;</span>Esercizio 1</a></span></li></ul></li></ul></li><li><span><a href=\"#Soluzioni\" data-toc-modified-id=\"Soluzioni-2\"><span class=\"toc-item-num\">2&nbsp;&nbsp;</span>Soluzioni</a></span><ul class=\"toc-item\"><li><ul class=\"toc-item\"><li><span><a href=\"#Domanda-1\" data-toc-modified-id=\"Domanda-1-2.0.1\"><span class=\"toc-item-num\">2.0.1&nbsp;&nbsp;</span>Domanda 1</a></span></li><li><span><a href=\"#Domanda-2\" data-toc-modified-id=\"Domanda-2-2.0.2\"><span class=\"toc-item-num\">2.0.2&nbsp;&nbsp;</span>Domanda 2</a></span></li><li><span><a href=\"#Esercizio-1\" data-toc-modified-id=\"Esercizio-1-2.0.3\"><span class=\"toc-item-num\">2.0.3&nbsp;&nbsp;</span>Esercizio 1</a></span></li></ul></li></ul></li></ul></div>"
   ]
  },
  {
   "cell_type": "markdown",
   "metadata": {
    "id": "Ry0-iHGSJKQP"
   },
   "source": [
    "# Lezione 1 - Homeworks"
   ]
  },
  {
   "cell_type": "markdown",
   "metadata": {
    "id": "VyJ6AzzcJKQQ"
   },
   "source": [
    "## Letture\n",
    "\n",
    "- [guida di KNN su sklearn](https://scikit-learn.org/stable/modules/neighbors.html#classification) \n",
    "**per chi è arrugginito con la matematica**:\n",
    "- [vettori](https://en.wikipedia.org/wiki/Cartesian_coordinate_system)\n",
    "- [distanza euclidea](https://en.wikipedia.org/wiki/Euclidean_distance)\n",
    "- [media](https://simple.wikipedia.org/wiki/Mean)\n",
    "- [deviazione standard](https://simple.wikipedia.org/wiki/Standard_deviation)"
   ]
  },
  {
   "cell_type": "markdown",
   "metadata": {
    "id": "qlofMmI6JKQS"
   },
   "source": [
    "## Una variante di k-NN:  RadiusNeighbors (RN)"
   ]
  },
  {
   "cell_type": "markdown",
   "metadata": {
    "id": "4_9eQJ33JKQT"
   },
   "source": [
    "Invece di calcolare per ogni punto di test i k esempi del train più vicini possiamo usare come vicinato **tutti i punti** che sono a una determinata **distanza r** dal punto.  \n",
    "\n",
    "\n",
    "<figure>\n",
    "<img src=\"1_data/frnns.svg\" alt=\"Radius neighbors\" style=\"width: 400px;\"/>\n",
    "    <figcaption>Figura 1: Il vicinato (in arancione) per un punto di test (nero). In 2D un vicinato calcolato con la distanza euclidea è una \"palla\".</figcaption>\n",
    "</figure>\n",
    "\n",
    "I vicini **non** sono più un **numero fissato** come in k-NN ma dipendono dalla **densità** intorno al punto di test.\n",
    "\n",
    "<figure>\n",
    "<img src=\"1_data/frnns2.svg\" alt=\"Radius neighbors\" style=\"width: 400px;\"/>\n",
    "    <figcaption>Figura 2: Due vicinati (con lo stesso valore di r) con numero di vicini diversi.</figcaption>\n",
    "</figure>\n",
    "\n",
    "### Domanda 1\n",
    "Data una distanza **r**, esiste un valore di **k** per cui tutti i possibili vicinati di **k-NN** coincidono con i vicinati di **RN**? Se sì quale?\n",
    "\n",
    "\n",
    "### Domanda 2\n",
    "Quando può essere conveniente usare **RadiusNeighbors** invece di **KNN**?\n"
   ]
  },
  {
   "cell_type": "markdown",
   "metadata": {
    "id": "b5mmZIcrJKQV"
   },
   "source": [
    "### Esercizio 1\n",
    "- implementare Radius Neighbors\n",
    "- plottare l'accuratezza di train e test al variare di k per RadiusNeighbors\n",
    "\n",
    "Suggerimento: che parti di KNN devo modificare?\n"
   ]
  },
  {
   "cell_type": "markdown",
   "metadata": {
    "id": "zdmpmGvPJKQX"
   },
   "source": [
    "# Soluzioni\n",
    "\n",
    "### Domanda 1\n",
    "No, in generale non esiste un valore di **k** per cui i tutti i vicinati di RN corrispondono a quelli di KNN.\n",
    "\n",
    "###  Domanda 2\n",
    "Quando i punti (esempi del dataset) non sono distribuiti in modo omogeneo nello spazio.\n",
    "\n",
    "### Esercizio 1 \n",
    "Di seguito una implementazione di RN con scikit learn"
   ]
  },
  {
   "cell_type": "code",
   "execution_count": 123,
   "metadata": {},
   "outputs": [],
   "source": [
    "import pandas as pd\n",
    "from sklearn.neighbors import RadiusNeighborsClassifier, KNeighborsClassifier\n",
    "from sklearn.model_selection import train_test_split\n",
    "from sklearn.metrics import accuracy_score"
   ]
  },
  {
   "cell_type": "code",
   "execution_count": 132,
   "metadata": {},
   "outputs": [],
   "source": [
    "df = pd.read_csv('titanic.csv')\n",
    "\n",
    "\n",
    "X_selected = df[['Pclass', 'SibSp', 'Parch', 'Fare']]\n",
    "y = df['Survived']\n",
    "\n",
    "X_train, X_test, y_train, y_test = train_test_split(X_selected, y, test_size = 0.2, random_state = 42)"
   ]
  },
  {
   "cell_type": "code",
   "execution_count": 125,
   "metadata": {},
   "outputs": [
    {
     "name": "stdout",
     "output_type": "stream",
     "text": [
      "No neighbours for radious 0\n",
      "No neighbours for radious 1\n",
      "No neighbours for radious 2\n",
      "No neighbours for radious 3\n",
      "No neighbours for radious 4\n",
      "No neighbours for radious 5\n",
      "Radious: 6 -> Accuracy: 67.04\n",
      "Radious: 7 -> Accuracy: 67.6\n",
      "Radious: 8 -> Accuracy: 68.16\n",
      "Radious: 9 -> Accuracy: 67.6\n",
      "Radious: 10 -> Accuracy: 67.6\n",
      "Radious: 11 -> Accuracy: 67.6\n",
      "Radious: 12 -> Accuracy: 67.6\n",
      "Radious: 13 -> Accuracy: 65.92\n",
      "Radious: 14 -> Accuracy: 66.48\n",
      "Radious: 15 -> Accuracy: 65.92\n",
      "Radious: 16 -> Accuracy: 64.25\n",
      "Radious: 17 -> Accuracy: 64.25\n",
      "Radious: 18 -> Accuracy: 64.25\n",
      "Radious: 19 -> Accuracy: 64.25\n"
     ]
    }
   ],
   "source": [
    "# proviamo RadiousNeighbours con vari raggi \n",
    "for r in range(0, 20):\n",
    "    try:\n",
    "        rn = RadiusNeighborsClassifier(radius=r).fit(X_train, y_train)\n",
    "        acc_log = round(rn.score(X_test, y_test) * 100, 2)\n",
    "        print(f\"Radious: {r} -> Accuracy: {acc_log}\")\n",
    "    except:\n",
    "        print(f\"No neighbours for radious {r}\")"
   ]
  },
  {
   "cell_type": "markdown",
   "metadata": {},
   "source": [
    "### Opzionale: implementazione di knn"
   ]
  },
  {
   "cell_type": "code",
   "execution_count": 126,
   "metadata": {},
   "outputs": [],
   "source": [
    "import numpy as np"
   ]
  },
  {
   "cell_type": "code",
   "execution_count": 133,
   "metadata": {},
   "outputs": [],
   "source": [
    "class KNN:\n",
    "    \n",
    "    def __init__(self, k=3):\n",
    "         self.k = k\n",
    "            \n",
    "    def fit(self, X, y):\n",
    "        self.X = X.copy()\n",
    "        self.y = y.copy()\n",
    "        \n",
    "    def predict(self, X):\n",
    "        y_pred = np.full(len(X), -1)\n",
    "        for i, x in enumerate(X):\n",
    "            # compute the euclidean distance between the point to predict \n",
    "            # and all the points of the training set\n",
    "            dist = np.sqrt(np.sum((self.X-x)**2, axis=1))\n",
    "            # find the k indexes of the training points that are closer to x (these are the knns)\n",
    "            idx_knns = np.argsort(dist)[:self.k]\n",
    "            # find the y relative to the knns\n",
    "            y_knns = self.y[idx_knns]\n",
    "            # count the values of \n",
    "            values, counts = np.unique(y_knns, return_counts=True)\n",
    "            # assoiciate to the point x the most frequent value of the knns \n",
    "            y_pred[i] = values[np.argmax(counts)]\n",
    "        return y_pred"
   ]
  },
  {
   "cell_type": "code",
   "execution_count": 137,
   "metadata": {},
   "outputs": [
    {
     "data": {
      "text/plain": [
       "0.6703910614525139"
      ]
     },
     "execution_count": 137,
     "metadata": {},
     "output_type": "execute_result"
    }
   ],
   "source": [
    "knn = KNN(k=3)\n",
    "knn.fit(X_train.values, y_train.values)\n",
    "y_pred = knn.predict(X_test.values)\n",
    "\n",
    "accuracy_score(y_test, y_pred)"
   ]
  },
  {
   "cell_type": "code",
   "execution_count": 138,
   "metadata": {},
   "outputs": [
    {
     "data": {
      "text/plain": [
       "0.6703910614525139"
      ]
     },
     "execution_count": 138,
     "metadata": {},
     "output_type": "execute_result"
    }
   ],
   "source": [
    "# compare with sklearn knn\n",
    "knnClassifier = KNeighborsClassifier(n_neighbors=3).fit(X_train, y_train)\n",
    "y_pred = knnClassifier.predict(X_test)\n",
    "accuracy_score(y_test, y_pred)"
   ]
  }
 ],
 "metadata": {
  "colab": {
   "collapsed_sections": [],
   "provenance": []
  },
  "kernelspec": {
   "display_name": "Python 3",
   "language": "python",
   "name": "python3"
  },
  "language_info": {
   "codemirror_mode": {
    "name": "ipython",
    "version": 3
   },
   "file_extension": ".py",
   "mimetype": "text/x-python",
   "name": "python",
   "nbconvert_exporter": "python",
   "pygments_lexer": "ipython3",
   "version": "3.9.12"
  },
  "toc": {
   "base_numbering": 1,
   "nav_menu": {},
   "number_sections": true,
   "sideBar": true,
   "skip_h1_title": false,
   "title_cell": "Table of Contents",
   "title_sidebar": "Contents",
   "toc_cell": true,
   "toc_position": {},
   "toc_section_display": true,
   "toc_window_display": true
  }
 },
 "nbformat": 4,
 "nbformat_minor": 4
}
